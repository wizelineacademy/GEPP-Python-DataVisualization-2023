{
 "cells": [
  {
   "cell_type": "markdown",
   "metadata": {},
   "source": [
    "# Session 09\n",
    "\n",
    "## Images and Data Analysis\n",
    "\n",
    "## Images\n",
    "\n",
    "For image processing in Python we use [Pillow](https://python-pillow.org), a _fork_ of the Python Imaging Library.\n",
    "\n",
    "```bash\n",
    "python -m pip install pillow\n",
    "```\n",
    "\n",
    "> Note: In our case we used the requirements.txt file.\n"
   ]
  },
  {
   "cell_type": "code",
   "execution_count": null,
   "metadata": {},
   "outputs": [],
   "source": [
    "from PIL import Image\n",
    "\n"
   ]
  },
  {
   "cell_type": "code",
   "execution_count": null,
   "metadata": {},
   "outputs": [],
   "source": [
    "print(\"Format:\", im.format)\n",
    "print(\"Size:\", im.size)\n",
    "print(\"Mode:\", im.mode)\n",
    "\n",
    "im.show()\n"
   ]
  },
  {
   "cell_type": "markdown",
   "metadata": {},
   "source": [
    "The images normally display on their own window, but we can make Jupyter to display them \"inline\" with matplotlib.\n"
   ]
  },
  {
   "cell_type": "code",
   "execution_count": null,
   "metadata": {},
   "outputs": [],
   "source": [
    "from matplotlib.pyplot import imshow\n",
    "\n",
    "%matplotlib inline\n",
    "\n",
    "imshow(im)"
   ]
  },
  {
   "cell_type": "markdown",
   "metadata": {},
   "source": [
    "Each image has it's own characteristics. [This is the famous \"Lenna\" image](https://www.cranbrooktownsman.com/opinion/booknotes-playboy-lena-sderberg-and-the-first-jpeg/).\n"
   ]
  },
  {
   "cell_type": "code",
   "execution_count": null,
   "metadata": {},
   "outputs": [],
   "source": [
    "lenna = Image.open(\"images/lenna.jpg\")\n",
    "\n",
    "print(\"Format:\", lenna.format)\n",
    "print(\"Size:\", lenna.size)\n",
    "print(\"Mode:\", lenna.mode)\n",
    "\n",
    "imshow(lenna)\n"
   ]
  },
  {
   "cell_type": "markdown",
   "metadata": {},
   "source": [
    "We can automate image processing.\n"
   ]
  },
  {
   "cell_type": "code",
   "execution_count": null,
   "metadata": {},
   "outputs": [],
   "source": [
    "import os\n",
    "\n",
    "print(os.listdir(\"images\"))\n"
   ]
  },
  {
   "cell_type": "code",
   "execution_count": null,
   "metadata": {},
   "outputs": [],
   "source": [
    "for filename in os.listdir(\"images\"):\n",
    "    if filename.split(\".\")[1] in [\"jpg\", \"png\"]:\n",
    "        print(filename)\n"
   ]
  },
  {
   "cell_type": "markdown",
   "metadata": {},
   "source": [
    "We will \"split\" the filename to use the name and extension separately.\n"
   ]
  },
  {
   "cell_type": "code",
   "execution_count": null,
   "metadata": {},
   "outputs": [],
   "source": [
    "for filename in os.listdir(\"images\"):\n",
    "    if filename.split(\".\")[1] in [\"jpg\", \"png\"]:\n",
    "        image = Image.open(\"images/\" + filename)\n",
    "        image.thumbnail((128, 128))\n",
    "        image_rgb = image.convert(\"RGB\")\n",
    "        image_rgb.save(\"new_images/\" + filename.split(\".\")[0] + \"_tmb.jpg\", \"JPEG\")\n"
   ]
  },
  {
   "cell_type": "code",
   "execution_count": null,
   "metadata": {},
   "outputs": [],
   "source": [
    "from PIL import ImageDraw, ImageFont\n",
    "\n",
    "draw = ImageDraw.Draw(lenna)\n",
    "font = ImageFont.truetype(\"Sudo-Bold.ttf\", 72)\n",
    "\n",
    "draw.text((250, 350), \"Lenna\", fill=(0, 0, 0), font=font)\n",
    "\n",
    "imshow(lenna)\n"
   ]
  },
  {
   "cell_type": "code",
   "execution_count": null,
   "metadata": {},
   "outputs": [],
   "source": [
    "lenna = Image.open(\"images/lenna.jpg\")\n",
    "draw = ImageDraw.Draw(lenna)\n",
    "font = ImageFont.truetype(\"Sudo-Bold.ttf\", 72)\n",
    "\n",
    "caption = \"Lenna\"\n",
    "\n",
    "bounding_box = draw.textbbox((0, 0), caption, font=font)\n",
    "print(bounding_box)\n"
   ]
  },
  {
   "cell_type": "code",
   "execution_count": null,
   "metadata": {},
   "outputs": [],
   "source": [
    "text_width = bounding_box[2] - bounding_box[0] + 10\n",
    "text_height = bounding_box[3] - bounding_box[1] + 15\n",
    "\n",
    "image_width, image_height = lenna.size\n",
    "\n",
    "x_start = (image_width - text_width) / 2\n",
    "y_start = (image_height - 50) - text_height\n",
    "\n",
    "print(x_start, y_start, text_width, text_height)\n"
   ]
  },
  {
   "cell_type": "code",
   "execution_count": null,
   "metadata": {},
   "outputs": [],
   "source": [
    "draw.rectangle(\n",
    "    (x_start, y_start, x_start + text_width, y_start + text_height),\n",
    "    fill=(255, 255, 255),\n",
    "    outline=(0, 0, 255),\n",
    ")\n",
    "\n",
    "draw.text(\n",
    "    (x_start + 5, y_start - 5),\n",
    "    caption,\n",
    "    fill=(0, 0, 0),\n",
    "    font=font,\n",
    ")\n",
    "\n",
    "imshow(lenna)\n"
   ]
  },
  {
   "cell_type": "markdown",
   "metadata": {},
   "source": [
    "And we can save the new image.\n"
   ]
  },
  {
   "cell_type": "code",
   "execution_count": null,
   "metadata": {},
   "outputs": [],
   "source": [
    "lenna.save(\"new_images/lenna_captioned.png\")\n"
   ]
  },
  {
   "cell_type": "markdown",
   "metadata": {},
   "source": [
    "For more information about Pillow:\n",
    "\n",
    "- [Tutorial](https://pillow.readthedocs.io/en/stable/handbook/tutorial.html)\n",
    "- [HandBook](https://pillow.readthedocs.io/en/stable/handbook/index.html)\n"
   ]
  },
  {
   "cell_type": "markdown",
   "metadata": {},
   "source": [
    "## Data Analysis\n",
    "\n",
    "Data analysis is about **asking** and **answering** questions about your data.\n",
    "\n",
    "| Characteristic | What does it means                                            |\n",
    "| -------------- | ------------------------------------------------------------- |\n",
    "| Accuracy       | Does it match reality? Is it error-free and exact?            |\n",
    "| Consistency    | There are no contradictions in the data                       |\n",
    "| Completeness   | How comprehensive is the information?                         |\n",
    "| Reliability    | Is it reproducible?                                           |\n",
    "| Relevance      |  Do you need this information?                                |\n",
    "| Timeliness     | Can we get it on time to be relevant?                         |\n",
    "| Auditable      | Do we know where the data comes from? How it was manipulated? |\n",
    "| Secure         | Do we know who has access to the data? Is PII secure?         |\n"
   ]
  },
  {
   "cell_type": "markdown",
   "metadata": {},
   "source": [
    "We have to be careful with Bias.\n",
    "\n",
    "> Data bias is when the source data is skewed, providing results that are not fully representative of what you are researching, and can be either intentionally or unintentionally done.\n",
    "\n"
   ]
  }
 ],
 "metadata": {
  "kernelspec": {
   "display_name": "Python 3.9.13 ('venv': venv)",
   "language": "python",
   "name": "python3"
  },
  "language_info": {
   "codemirror_mode": {
    "name": "ipython",
    "version": 3
   },
   "file_extension": ".py",
   "mimetype": "text/x-python",
   "name": "python",
   "nbconvert_exporter": "python",
   "pygments_lexer": "ipython3",
   "version": "3.9.13"
  },
  "vscode": {
   "interpreter": {
    "hash": "1e740eb05d9d7c17c49394d33f1d4230a7fee68837223af2d3ec28e6cbf92d98"
   }
  }
 },
 "nbformat": 4,
 "nbformat_minor": 4
}
