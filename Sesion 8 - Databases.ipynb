{
 "cells": [
  {
   "cell_type": "markdown",
   "metadata": {},
   "source": [
    "# Session 08\n",
    "\n",
    "## Databases, the Internet, and APIs\n",
    "\n",
    "## Secrets management\n",
    "\n",
    "To be able to connect to many data sources we need Credentials. They can be usernames, passwords, keys, tokens and more. Those credentials should be kept secret at all times, because if they are compromised OUR DATA gets compromised. And that is a disaster.\n",
    "\n",
    "[Equifax Data Breach]<https://en.wikipedia.org/wiki/2017_Equifax_data_breach>\n",
    "\n",
    "There are several ways to keep our credentials safe, for example:\n",
    "\n",
    "- Password managers [LastPass](<https://www.lastpass.com>).\n",
    "- Secret Managers [HashiCorp Vault](<https://www.hashicorp.com/products/vault>).\n",
    "\n",
    "### NEVER COMMIT SECRETS TO A REPOSITORY\n",
    "\n",
    "One HUGE mistake we do is to upload secrets to a repository. IT DOESN'T MATTER IF IT IS A PRIVATE repository.\n",
    "\n",
    "**NEVER WRITE DOWN SECRETS IN YOUR CODE**\n",
    "\n",
    "To use credentials in our Notebooks or programs we can:\n",
    "\n",
    "- Retrieve them programmatically from a service.\n",
    "- Set them up as environment variables.\n",
    "\n",
    "### Environment variables.\n",
    "\n",
    "They are values present on the Operating System."
   ]
  },
  {
   "cell_type": "code",
   "execution_count": null,
   "metadata": {},
   "outputs": [],
   "source": [
    "!env"
   ]
  },
  {
   "cell_type": "markdown",
   "metadata": {},
   "source": [
    "And we can retrieve them from python..."
   ]
  },
  {
   "cell_type": "code",
   "execution_count": null,
   "metadata": {},
   "outputs": [],
   "source": [
    "import os\n",
    "\n",
    "for key, value in os.environ.items():\n",
    "    print(key,value)"
   ]
  },
  {
   "cell_type": "markdown",
   "metadata": {},
   "source": [
    "We can set new environment variables..."
   ]
  },
  {
   "cell_type": "code",
   "execution_count": null,
   "metadata": {},
   "outputs": [],
   "source": [
    "os.environ[\"MY_SECRET\"]=\"The_credentials_go_here\""
   ]
  },
  {
   "cell_type": "code",
   "execution_count": null,
   "metadata": {},
   "outputs": [],
   "source": [
    "print(os.environ[\"MY_SECRET\"])"
   ]
  },
  {
   "cell_type": "markdown",
   "metadata": {},
   "source": [
    "To keep credentials safe is a very important and vast subject. The important things to remember are:\n",
    "\n",
    "- **NEVER WRITE CREDENTIALS IN THE CODE**\n",
    "- Really: **NEVER WRITE CREDENTIALS IN THE CODE**, even if it is a private repository and/or the credentials are encrypted.\n",
    "- We need to take all necessary measures to keep our credentials safe."
   ]
  },
  {
   "cell_type": "markdown",
   "metadata": {},
   "source": [
    "## Databases\n",
    "\n",
    "Many times our data comes from Databases. IT is very easy to read data from a Database with pandas.\n",
    "\n",
    "Note: For this exercise we will use an \"integrated SQL server\" called SQL Lite, which is included in Python. The data of the Database is in the file `fligths.db`."
   ]
  },
  {
   "cell_type": "code",
   "execution_count": null,
   "metadata": {},
   "outputs": [],
   "source": [
    "from pprint import pprint\n",
    "import sqlite3\n",
    "\n",
    "database = sqlite3.connect(\"flights.db\")\n",
    "\n",
    "cursor = database.cursor()"
   ]
  },
  {
   "cell_type": "code",
   "execution_count": null,
   "metadata": {},
   "outputs": [],
   "source": [
    "for record in cursor.execute(\"select * from airlines limit 5;\"):\n",
    "    print(\"-\" * 20)\n",
    "    pprint(record, width=10)"
   ]
  },
  {
   "cell_type": "markdown",
   "metadata": {},
   "source": [
    "To send the data to a pandas DataFrame we use the `read_sql_query` method."
   ]
  },
  {
   "cell_type": "code",
   "execution_count": null,
   "metadata": {
    "collapsed": false,
    "pycharm": {
     "name": "#%%\n"
    }
   },
   "outputs": [],
   "source": [
    "import numpy as np\n",
    "import pandas as pd"
   ]
  },
  {
   "cell_type": "code",
   "execution_count": null,
   "metadata": {},
   "outputs": [],
   "source": [
    "airlines = pd.read_sql_query(\"select * from airlines\", database)\n",
    "\n",
    "airlines.describe(include=\"all\")"
   ]
  },
  {
   "cell_type": "code",
   "execution_count": null,
   "metadata": {},
   "outputs": [],
   "source": [
    "airlines.head(5)"
   ]
  },
  {
   "cell_type": "code",
   "execution_count": null,
   "metadata": {},
   "outputs": [],
   "source": [
    "cursor.close()\n",
    "database.close()"
   ]
  },
  {
   "cell_type": "markdown",
   "metadata": {},
   "source": [
    "## Reading from HTML\n",
    "\n",
    "Note: We need to install the `lxml` and `html5lib` modules.\n",
    "\n",
    "The `read_html` module lets us read all the html tables in a webpage.\n",
    "\n",
    "As an example we will use the [Wikipedia Webpage for México](https://en.wikipedia.org/wiki/Mexico)."
   ]
  },
  {
   "cell_type": "code",
   "execution_count": null,
   "metadata": {
    "collapsed": false,
    "jupyter": {
     "outputs_hidden": false
    },
    "pycharm": {
     "name": "#%%\n"
    }
   },
   "outputs": [],
   "source": [
    "tables = pd.read_html(\"https://en.wikipedia.org/wiki/Mexico\")\n",
    "\n",
    "len(tables)"
   ]
  },
  {
   "cell_type": "markdown",
   "metadata": {},
   "source": [
    "There are 12 HTML Tables in the page. Let´s see the first table."
   ]
  },
  {
   "cell_type": "code",
   "execution_count": null,
   "metadata": {},
   "outputs": [],
   "source": [
    "tables[0].head(5)"
   ]
  },
  {
   "cell_type": "markdown",
   "metadata": {},
   "source": [
    "We want the table of *\"Largest metropolitan areas in Mexico\"*"
   ]
  },
  {
   "cell_type": "code",
   "execution_count": null,
   "metadata": {},
   "outputs": [],
   "source": [
    "largest_cities = pd.read_html(\"https://en.wikipedia.org/wiki/Mexico\",\n",
    "                              match=\"Largest\")\n",
    "\n",
    "len(largest_cities)"
   ]
  },
  {
   "cell_type": "markdown",
   "metadata": {},
   "source": [
    "We found it!"
   ]
  },
  {
   "cell_type": "code",
   "execution_count": null,
   "metadata": {},
   "outputs": [],
   "source": [
    "largest_cities[0].head(10)"
   ]
  },
  {
   "cell_type": "markdown",
   "metadata": {},
   "source": [
    "Note: Python has a great module for *scrapping* web pages, called [BeautifulSoup](https://www.crummy.com/software/BeautifulSoup/)."
   ]
  },
  {
   "cell_type": "markdown",
   "metadata": {},
   "source": [
    "## APIs\n",
    "\n",
    "An **API** (application programming interface) lets us request information and processes using the Internet. It is a fundamental piece of modern applications, as it allows un uncouple monoliths into microservices.\n",
    "\n"
   ]
  },
  {
   "cell_type": "code",
   "execution_count": null,
   "metadata": {},
   "outputs": [],
   "source": [
    "import requests\n",
    "\n",
    "url = \"https://api.ipify.org/?format=json\"\n",
    "\n",
    "response = requests.request(\"GET\", url)\n",
    "\n",
    "print(\"HTTP Response code:\", response)"
   ]
  },
  {
   "cell_type": "code",
   "execution_count": null,
   "metadata": {},
   "outputs": [],
   "source": [
    "print(response.json())\n",
    "\n",
    "my_ip = response.json()[\"ip\"]\n",
    "\n",
    "print(\"My Public IP is: \" + my_ip)"
   ]
  },
  {
   "cell_type": "code",
   "execution_count": null,
   "metadata": {},
   "outputs": [],
   "source": [
    "url = \"https://ipinfo.io/\" + my_ip +\"/geo\"\n",
    "\n",
    "response = requests.request(\"GET\", url)\n",
    "\n",
    "print(\"HTTP Response code:\", response)"
   ]
  },
  {
   "cell_type": "code",
   "execution_count": null,
   "metadata": {},
   "outputs": [],
   "source": [
    "from pprint import pprint\n",
    "\n",
    "pprint(response.json())"
   ]
  },
  {
   "cell_type": "code",
   "execution_count": null,
   "metadata": {},
   "outputs": [],
   "source": [
    "import plotly.express as px\n",
    "\n",
    "df = pd.DataFrame(response.json(), index=[0])\n",
    "\n",
    "coordinates = list(df[\"loc\"].str.split(\",\")[0])\n",
    "\n",
    "df[\"lat\"] = coordinates[0]\n",
    "df[\"lon\"] = coordinates[1]\n",
    "\n",
    "px.scatter_geo(\n",
    "    df,\n",
    "    lat=\"lat\",\n",
    "    lon=\"lon\",\n",
    "    hover_name=\"city\",\n",
    ")"
   ]
  },
  {
   "cell_type": "markdown",
   "metadata": {},
   "source": [
    "We can load data directly from an API URL."
   ]
  },
  {
   "cell_type": "code",
   "execution_count": null,
   "metadata": {},
   "outputs": [],
   "source": [
    "country = \"mexico\"\n",
    "info = \"confirmed\"\n",
    "\n",
    "covid = pd.read_json(\"https://api.covid19api.com/dayone/country/\" + country + \"/status/\" + info)"
   ]
  },
  {
   "cell_type": "code",
   "execution_count": null,
   "metadata": {},
   "outputs": [],
   "source": [
    "covid.head(5)"
   ]
  },
  {
   "cell_type": "code",
   "execution_count": null,
   "metadata": {},
   "outputs": [],
   "source": [
    "covid.plot(\n",
    "    x=\"Date\",\n",
    "    y=\"Cases\",\n",
    "    kind=\"area\",\n",
    ")"
   ]
  },
  {
   "cell_type": "code",
   "execution_count": null,
   "metadata": {},
   "outputs": [],
   "source": []
  }
 ],
 "metadata": {
  "kernelspec": {
   "display_name": "Python 3.9.13 ('venv': venv)",
   "language": "python",
   "name": "python3"
  },
  "language_info": {
   "codemirror_mode": {
    "name": "ipython",
    "version": 3
   },
   "file_extension": ".py",
   "mimetype": "text/x-python",
   "name": "python",
   "nbconvert_exporter": "python",
   "pygments_lexer": "ipython3",
   "version": "3.9.13"
  },
  "vscode": {
   "interpreter": {
    "hash": "64df410153adfaa36bfb0cd6d7a2c0d642c620bc76cf7a0bd7609c85fbbdc3eb"
   }
  }
 },
 "nbformat": 4,
 "nbformat_minor": 4
}
