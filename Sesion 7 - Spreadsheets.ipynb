{
 "cells": [
  {
   "cell_type": "markdown",
   "metadata": {},
   "source": [
    "# Session 07\n",
    "\n",
    "## Data Files and Spreadsheets\n",
    "\n",
    "### pandas IO Tools\n",
    "\n",
    "<https://pandas.pydata.org/docs/user_guide/io.html>\n",
    "\n",
    "| Format Type | Data Description | Reader | Writer |\n",
    "| ---- | ---- | ----| ---- |\n",
    "| text | CSV | read_csv | to_csv |\n",
    "| text | Fixed-Width Text File | read_fwf |\n",
    "| text | JSON | read_json | to_json |\n",
    "| text | HTML | read_html | to_html |\n",
    "| text | LaTeX |  | Styler.to_latex |\n",
    "| text | XML | read_xml | to_xml |\n",
    "| text | Local clipboard | read_clipboard | to_clipboard |\n",
    "| binary | MS Excel | read_excel | to_excel |\n",
    "| binary | OpenDocument | read_excel |  |  |\n",
    "| binary | HDF5 Format | read_hdf | to_hdf |\n",
    "| binary | Feather Format | read_feather | to_feather |\n",
    "| binary | Parquet Format | read_parquet | to_parquet |\n",
    "| binary | ORC Format | read_orc |  |  |\n",
    "| binary | Stata | read_stata | to_stata |\n",
    "| binary | SAS | read_sas |  |  |\n",
    "| binary | SPSS | read_spss |  |  |\n",
    "| binary | Python Pickle Format | read_pickle | to_pickle |\n",
    "| SQL | SQL | read_sql | to_sql |\n",
    "| SQL | Google BigQuery | read_gbq | to_gbq |"
   ]
  },
  {
   "cell_type": "code",
   "execution_count": null,
   "metadata": {
    "collapsed": false,
    "pycharm": {
     "name": "#%%\n"
    }
   },
   "outputs": [],
   "source": [
    "import numpy as np\n",
    "import pandas as pd"
   ]
  },
  {
   "cell_type": "markdown",
   "metadata": {},
   "source": [
    "We can execute Operating System commands just by prefacing them with \"!\""
   ]
  },
  {
   "cell_type": "code",
   "execution_count": null,
   "metadata": {
    "collapsed": false,
    "jupyter": {
     "outputs_hidden": false
    },
    "pycharm": {
     "name": "#%%\n"
    }
   },
   "outputs": [],
   "source": [
    "!ls -l *.csv"
   ]
  },
  {
   "cell_type": "markdown",
   "metadata": {},
   "source": [
    "We can load local files..."
   ]
  },
  {
   "cell_type": "code",
   "execution_count": null,
   "metadata": {
    "collapsed": false,
    "jupyter": {
     "outputs_hidden": false
    },
    "pycharm": {
     "name": "#%%\n"
    }
   },
   "outputs": [],
   "source": [
    "titanic = pd.read_csv(\"titanic_dataset.csv\")\n",
    "titanic.sample(5)"
   ]
  },
  {
   "cell_type": "markdown",
   "metadata": {},
   "source": [
    "Or remote files..."
   ]
  },
  {
   "cell_type": "code",
   "execution_count": null,
   "metadata": {
    "collapsed": false,
    "jupyter": {
     "outputs_hidden": false
    },
    "pycharm": {
     "name": "#%%\n"
    }
   },
   "outputs": [],
   "source": [
    "url = \"https://gist.githubusercontent.com/fyyying/4aa5b471860321d7b47fd881898162b7/raw/6907bb3a38bfbb6fccf3a8b1edfb90e39714d14f/titanic_dataset.csv\"\n",
    "titanic = pd.read_csv(url, index_col=\"PassengerId\")\n",
    "titanic.sample(5)"
   ]
  },
  {
   "cell_type": "code",
   "execution_count": null,
   "metadata": {
    "collapsed": false,
    "jupyter": {
     "outputs_hidden": false
    },
    "pycharm": {
     "name": "#%%\n"
    }
   },
   "outputs": [],
   "source": [
    "print(titanic.shape)"
   ]
  },
  {
   "cell_type": "code",
   "execution_count": null,
   "metadata": {
    "collapsed": false,
    "jupyter": {
     "outputs_hidden": false
    },
    "pycharm": {
     "name": "#%%\n"
    }
   },
   "outputs": [],
   "source": [
    "titanic.describe()"
   ]
  },
  {
   "cell_type": "code",
   "execution_count": null,
   "metadata": {
    "collapsed": false,
    "jupyter": {
     "outputs_hidden": false
    },
    "pycharm": {
     "name": "#%%\n"
    }
   },
   "outputs": [],
   "source": [
    "titanic.describe(exclude=[np.number])"
   ]
  },
  {
   "cell_type": "markdown",
   "metadata": {},
   "source": [
    "It is very easy to save a pandas DataFrame into an Excel Spreadsheet."
   ]
  },
  {
   "cell_type": "code",
   "execution_count": null,
   "metadata": {
    "collapsed": false,
    "jupyter": {
     "outputs_hidden": false
    },
    "pycharm": {
     "name": "#%%\n"
    }
   },
   "outputs": [],
   "source": [
    "titanic.to_excel(\"titanic.xlsx\", sheet_name=\"data\")"
   ]
  },
  {
   "cell_type": "code",
   "execution_count": null,
   "metadata": {},
   "outputs": [],
   "source": [
    "!ls -l *.xlsx"
   ]
  },
  {
   "cell_type": "code",
   "execution_count": null,
   "metadata": {},
   "outputs": [],
   "source": [
    "# For MacOS only\n",
    "!open titanic.xlsx\n",
    "# For Windows only\n",
    "# !start excel titanic.xlsx"
   ]
  },
  {
   "cell_type": "markdown",
   "metadata": {},
   "source": [
    "To read a private Google Sheets file, or to write one, we need to set up access, which is possible and documented, but we won't do it here.\n",
    "\n",
    "<https://developers.google.com/sheets/api/quickstart/python>\n",
    "\n",
    "To read a publicly accessible Google Sheet is very easy. We just need to **publish** the document.\n",
    "\n",
   ]
  },
  {
   "cell_type": "code",
   "execution_count": null,
   "metadata": {},
   "outputs": [],
   "source": [
    "google_sheet = pd.read_csv(\n",
    "    \"https://docs.google.com/spreadsheets/d/e/2PACX-1vTg88hDTlQa-iNnSmeQlbX1GwXbWKV7xiLmNVxArXw0z2bn9yV5g74iqfO_UGFk11vLoqPza5xc8glf/pub?gid=0&single=true&output=csv\"\n",
    ")\n",
    "\n",
    "google_sheet.head(5)"
   ]
  },
  {
   "cell_type": "markdown",
   "metadata": {},
   "source": [
    "We can automate the processing of Spreadsheets!"
   ]
  },
  {
   "cell_type": "code",
   "execution_count": null,
   "metadata": {
    "collapsed": false,
    "jupyter": {
     "outputs_hidden": false
    },
    "pycharm": {
     "name": "#%%\n"
    }
   },
   "outputs": [],
   "source": [
    "backups = pd.read_excel(\"backups.xlsx\", \"Diario\")\n",
    "backups.head(5)"
   ]
  },
  {
   "cell_type": "code",
   "execution_count": null,
   "metadata": {
    "collapsed": false,
    "jupyter": {
     "outputs_hidden": false
    },
    "pycharm": {
     "name": "#%%\n"
    }
   },
   "outputs": [],
   "source": [
    "backups = pd.read_excel(\"backups.xlsx\", \"Diario\", skiprows=1)\n",
    "backups.head(5)"
   ]
  },
  {
   "cell_type": "code",
   "execution_count": null,
   "metadata": {
    "collapsed": false,
    "pycharm": {
     "name": "#%%\n"
    }
   },
   "outputs": [],
   "source": [
    "backups.describe()"
   ]
  },
  {
   "cell_type": "code",
   "execution_count": null,
   "metadata": {
    "collapsed": false,
    "jupyter": {
     "outputs_hidden": false
    },
    "pycharm": {
     "name": "#%%\n"
    }
   },
   "outputs": [],
   "source": [
    "backups[[\"Hostname\", \"Size of Application (GB)\"]].groupby(\"Hostname\").sum()"
   ]
  },
  {
   "cell_type": "code",
   "execution_count": null,
   "metadata": {
    "collapsed": false,
    "jupyter": {
     "outputs_hidden": false
    },
    "pycharm": {
     "name": "#%%\n"
    }
   },
   "outputs": [],
   "source": [
    "(backups[[\"Hostname\", \"Size of Application (GB)\"]]\n",
    "    .groupby(\"Hostname\")\n",
    "    .sum()\n",
    "    .rename(columns={\"Size of Application (GB)\": \"Size\"})\n",
    " )"
   ]
  },
  {
   "cell_type": "code",
   "execution_count": null,
   "metadata": {
    "collapsed": false,
    "jupyter": {
     "outputs_hidden": false
    },
    "pycharm": {
     "name": "#%%\n"
    }
   },
   "outputs": [],
   "source": [
    "(backups[[\"Hostname\", \"Size of Application (GB)\"]]\n",
    "    .groupby(\"Hostname\")\n",
    "    .sum()\n",
    "    .rename(columns={\"Size of Application (GB)\": \"Size (GB)\"})\n",
    "    .plot(rot=90, kind=\"bar\")\n",
    " )"
   ]
  },
  {
   "cell_type": "code",
   "execution_count": null,
   "metadata": {
    "collapsed": false,
    "jupyter": {
     "outputs_hidden": false
    },
    "pycharm": {
     "name": "#%%\n"
    }
   },
   "outputs": [],
   "source": [
    "(backups[[\"Hostname\", \"Size of Application (GB)\"]]\n",
    "    .groupby(\"Hostname\")\n",
    "    .sum()\n",
    "    .apply(lambda size: size/1024)\n",
    "    .rename(columns={\"Size of Application (GB)\": \"Size (TB)\"})\n",
    "    .plot(rot=90, kind=\"bar\")\n",
    " )"
   ]
  },
  {
   "cell_type": "markdown",
   "metadata": {
    "pycharm": {
     "name": "#%% md\n"
    }
   },
   "source": [
    "## OpenPyxl\n",
    "\n",
    "OpenPyxl is a low-level module that let us read and write from and to Excel files.\n",
    "\n",
    "It lets you do more than pandas, but you need to be more detailed in what you want.\n",
    "\n",
    "[openpyxl](https://openpyxl.readthedocs.io/en/stable/)\n",
    "\n",
   ]
  },
  {
   "cell_type": "code",
   "execution_count": null,
   "metadata": {
    "collapsed": false,
    "pycharm": {
     "name": "#%%\n"
    }
   },
   "outputs": [],
   "source": [
    "from openpyxl import Workbook\n",
    "from openpyxl.utils import get_column_letter\n",
    "\n",
    "wb = Workbook()\n",
    "\n",
    "dest_filename = 'openpyxl_example.xlsx'\n",
    "\n",
    "ws1 = wb.active\n",
    "ws1.title = \"range names\"\n",
    "\n",
    "for row in range(1, 40):\n",
    "    ws1.append(range(600))\n",
    "\n",
    "ws2 = wb.create_sheet(title=\"Pi\")\n",
    "\n",
    "ws2['F5'] = 3.14\n",
    "\n",
    "ws3 = wb.create_sheet(title=\"Data\")\n",
    "\n",
    "for row in range(10, 20):\n",
    "    for col in range(27, 54):\n",
    "        _ = ws3.cell(column=col, row=row, value=\"{0}\".format(get_column_letter(col)))\n",
    "\n",
    "print(ws3['AA10'].value)\n",
    "\n",
    "wb.save(filename = dest_filename)"
   ]
  },
  {
   "cell_type": "code",
   "execution_count": null,
   "metadata": {},
   "outputs": [],
   "source": []
  }
 ],
 "metadata": {
  "kernelspec": {
   "display_name": "Python 3.9.13 ('venv': venv)",
   "language": "python",
   "name": "python3"
  },
  "language_info": {
   "codemirror_mode": {
    "name": "ipython",
    "version": 3
   },
   "file_extension": ".py",
   "mimetype": "text/x-python",
   "name": "python",
   "nbconvert_exporter": "python",
   "pygments_lexer": "ipython3",
   "version": "3.9.13"
  },
  "vscode": {
   "interpreter": {
    "hash": "24dcb5e42318c2d89319b85d1497ae5790c3ef1e6895fe5c7d6ef6eda8adf07a"
   }
  }
 },
 "nbformat": 4,
 "nbformat_minor": 4
}
