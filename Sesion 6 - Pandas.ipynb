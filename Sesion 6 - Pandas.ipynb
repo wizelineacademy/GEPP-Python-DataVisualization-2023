{
 "cells": [
  {
   "cell_type": "markdown",
   "metadata": {},
   "source": [
    "# Session 06\n",
    "\n",
    "## Pandas\n",
    "\n",
    "> pandas is a fast, powerful, flexible and easy to use open source data analysis and manipulation tool, built on top of the Python programming language.\n",
    "\n",
    "### [Website](https://pandas.pydata.org)\n",
    "\n",
    "pandas add a new data structure to Python, called **DataFrame**. It helps us store and work with Tabular data.\n",
    "\n",
    "We are going to read Covid-19 data from the [COVID-19 Dataset by Our World in Data](https://github.com/owid/covid-19-data) repository.\n"
   ]
  },
  {
   "cell_type": "code",
   "execution_count": null,
   "metadata": {},
   "outputs": [],
   "source": [
    "import pandas as pd\n",
    "\n",
    "covid_data_full = pd.read_csv(\"https://covid.ourworldindata.org/data/owid-covid-data.csv\")"
   ]
  },
  {
   "cell_type": "markdown",
   "metadata": {},
   "source": [
    "The `shape` property tell us the dimensions of the DataFrame (Rows and Columns)."
   ]
  },
  {
   "cell_type": "code",
   "execution_count": null,
   "metadata": {},
   "outputs": [],
   "source": [
    "print(\"Shape: \", covid_data_full.shape)"
   ]
  },
  {
   "cell_type": "markdown",
   "metadata": {},
   "source": [
    "The `info` method tell us the column names and types.\n",
    "\n",
    "With the `memory_usage=\"deep\"` parameter we get the full memory consumption."
   ]
  },
  {
   "cell_type": "code",
   "execution_count": null,
   "metadata": {},
   "outputs": [],
   "source": [
    "covid_data_full.info(memory_usage=\"deep\")"
   ]
  },
  {
   "cell_type": "markdown",
   "metadata": {},
   "source": [
    "The `head` method gives us a sample at the start of the DataFrame.\n",
    "\n",
    "You can add a parameter to select the number of rows, and there is also a tail method."
   ]
  },
  {
   "cell_type": "code",
   "execution_count": null,
   "metadata": {},
   "outputs": [],
   "source": [
    "covid_data_full.head()"
   ]
  },
  {
   "cell_type": "markdown",
   "metadata": {},
   "source": [
    "Note: `NaN` means \"Not a number\", and is the way of pandas to represent null values.\n",
    "\n",
    "The `describe` method gives us information about the data in the DataFrame."
   ]
  },
  {
   "cell_type": "code",
   "execution_count": null,
   "metadata": {},
   "outputs": [],
   "source": [
    "covid_data_full.describe()"
   ]
  },
  {
   "cell_type": "markdown",
   "metadata": {},
   "source": [
    "To make it more clear we will format the results to have 2 decimals."
   ]
  },
  {
   "cell_type": "code",
   "execution_count": null,
   "metadata": {},
   "outputs": [],
   "source": [
    "pd.options.display.float_format = \"{:.2f}\".format\n",
    "\n",
    "covid_data_full.describe()"
   ]
  },
  {
   "cell_type": "markdown",
   "metadata": {},
   "source": [
    "For this exercise we will use only 4 columns."
   ]
  },
  {
   "cell_type": "code",
   "execution_count": null,
   "metadata": {},
   "outputs": [],
   "source": [
    "covid_data = covid_data_full[[\"location\", \"date\", \"new_tests\", \"new_cases\"]].copy()"
   ]
  },
  {
   "cell_type": "markdown",
   "metadata": {},
   "source": []
  },
  {
   "cell_type": "code",
   "execution_count": null,
   "metadata": {},
   "outputs": [],
   "source": [
    "print(\"Shape: \", covid_data.shape)\n",
    "print(\"Info:\")\n",
    "covid_data.info(memory_usage=\"deep\")\n",
    "print(\"Head:\")\n",
    "covid_data.head()"
   ]
  },
  {
   "cell_type": "markdown",
   "metadata": {},
   "source": [
    "Normally `Describe` only shows numeric columns."
   ]
  },
  {
   "cell_type": "code",
   "execution_count": null,
   "metadata": {},
   "outputs": [],
   "source": [
    "covid_data.describe()"
   ]
  },
  {
   "cell_type": "markdown",
   "metadata": {},
   "source": [
    "But we can ask it to display only `object` columns (Normally strings)"
   ]
  },
  {
   "cell_type": "code",
   "execution_count": null,
   "metadata": {},
   "outputs": [],
   "source": [
    "covid_data.describe(include=\"object\")"
   ]
  },
  {
   "cell_type": "markdown",
   "metadata": {},
   "source": [
    "As we saw, we have missing data."
   ]
  },
  {
   "cell_type": "code",
   "execution_count": null,
   "metadata": {},
   "outputs": [],
   "source": [
    "print (covid_data.isnull().sum(axis=0))"
   ]
  },
  {
   "cell_type": "markdown",
   "metadata": {},
   "source": [
    "We can remove records with no values at new_tests column"
   ]
  },
  {
   "cell_type": "code",
   "execution_count": null,
   "metadata": {},
   "outputs": [],
   "source": [
    "covid_data.dropna(subset=[\"new_tests\"], inplace=True)\n",
    "print (covid_data.isnull().sum(axis=0))"
   ]
  },
  {
   "cell_type": "markdown",
   "metadata": {},
   "source": [
    "We do the same for new_cases"
   ]
  },
  {
   "cell_type": "code",
   "execution_count": null,
   "metadata": {},
   "outputs": [],
   "source": [
    "covid_data.dropna(subset=[\"new_cases\"], inplace=True)\n",
    "print (covid_data.isnull().sum(axis=0))"
   ]
  },
  {
   "cell_type": "markdown",
   "metadata": {},
   "source": [
    "Examine the dataframe without missing data"
   ]
  },
  {
   "cell_type": "code",
   "execution_count": null,
   "metadata": {},
   "outputs": [],
   "source": [
    "covid_data.describe(include=\"all\")"
   ]
  },
  {
   "cell_type": "markdown",
   "metadata": {},
   "source": [
    "We can select just some data"
   ]
  },
  {
   "cell_type": "code",
   "execution_count": null,
   "metadata": {},
   "outputs": [],
   "source": [
    "covid_data[covid_data.location == \"Mexico\"]"
   ]
  },
  {
   "cell_type": "code",
   "execution_count": null,
   "metadata": {},
   "outputs": [],
   "source": [
    "covid_data[\"date\"].max()"
   ]
  },
  {
   "cell_type": "code",
   "execution_count": null,
   "metadata": {},
   "outputs": [],
   "source": [
    "covid_data[covid_data.date == \"2022-06-23\"]"
   ]
  },
  {
   "cell_type": "code",
   "execution_count": null,
   "metadata": {},
   "outputs": [],
   "source": [
    "covid_data[covid_data.location == \"Mexico\"][\"date\"].max()"
   ]
  },
  {
   "cell_type": "code",
   "execution_count": null,
   "metadata": {},
   "outputs": [],
   "source": [
    "covid_data[covid_data.date == \"2022-06-18\"]"
   ]
  },
  {
   "cell_type": "code",
   "execution_count": null,
   "metadata": {},
   "outputs": [],
   "source": [
    "covid_data[covid_data.date == \"2022-06-18\"].head(5)"
   ]
  },
  {
   "cell_type": "markdown",
   "metadata": {},
   "source": [
    "Look for rows when there are more new cases than new tests"
   ]
  },
  {
   "cell_type": "code",
   "execution_count": null,
   "metadata": {},
   "outputs": [],
   "source": [
    "covid_data.loc[covid_data[\"new_cases\"] > covid_data[\"new_tests\"]]"
   ]
  },
  {
   "cell_type": "markdown",
   "metadata": {},
   "source": [
    "Remove those rows"
   ]
  },
  {
   "cell_type": "code",
   "execution_count": null,
   "metadata": {},
   "outputs": [],
   "source": [
    "covid_data.drop(covid_data[covid_data[\"new_cases\"] > covid_data[\"new_tests\"]].index, inplace=True)\n",
    "covid_data.loc[covid_data[\"new_cases\"] > covid_data[\"new_tests\"]]"
   ]
  },
  {
   "cell_type": "markdown",
   "metadata": {},
   "source": [
    "List records by country"
   ]
  },
  {
   "cell_type": "code",
   "execution_count": null,
   "metadata": {},
   "outputs": [],
   "source": [
    "covid_data.groupby([\"location\"])[\"location\"].count()"
   ]
  },
  {
   "cell_type": "code",
   "execution_count": null,
   "metadata": {},
   "outputs": [],
   "source": [
    "covid_data.groupby([\"location\"])[\"location\"].count()[\"Mexico\"]"
   ]
  },
  {
   "cell_type": "markdown",
   "metadata": {},
   "source": [
    "Let's create the new percentage column"
   ]
  },
  {
   "cell_type": "code",
   "execution_count": null,
   "metadata": {},
   "outputs": [],
   "source": [
    "covid_data[\"test_pct\"] = covid_data[\"new_cases\"] / covid_data[\"new_tests\"] * 100\n",
    "covid_data.describe(include=\"all\")"
   ]
  },
  {
   "cell_type": "code",
   "execution_count": null,
   "metadata": {},
   "outputs": [],
   "source": [
    "covid_data.head()"
   ]
  },
  {
   "cell_type": "markdown",
   "metadata": {},
   "source": [
    "We can get the average by country"
   ]
  },
  {
   "cell_type": "code",
   "execution_count": null,
   "metadata": {},
   "outputs": [],
   "source": [
    "covid_data.groupby([\"location\"])[\"test_pct\"].mean()"
   ]
  },
  {
   "cell_type": "markdown",
   "metadata": {},
   "source": [
    "And sort it descending"
   ]
  },
  {
   "cell_type": "code",
   "execution_count": null,
   "metadata": {},
   "outputs": [],
   "source": [
    "test_pct_df = covid_data.groupby([\"location\"])[\"test_pct\"].mean().reset_index().sort_values([\"test_pct\"], ascending=False)\n",
    "test_pct_df.head(20)"
   ]
  },
  {
   "cell_type": "markdown",
   "metadata": {},
   "source": [
    "Create a plot of the countries with most cases / test ratio"
   ]
  },
  {
   "cell_type": "code",
   "execution_count": null,
   "metadata": {},
   "outputs": [],
   "source": [
    "import matplotlib.pyplot as plt\n",
    "\n",
    "data_plot = test_pct_df.head(20).plot(\n",
    "    x=\"location\",\n",
    "    y=\"test_pct\",\n",
    "    kind=\"bar\",\n",
    "    figsize=(10,5),\n",
    ")\n",
    "plt.xticks(rotation=90)\n",
    "plt.title(\"COVID-19 data results\")\n",
    "plt.legend([\"Percentage\"])\n",
    "plt.xlabel(\"Country\")\n",
    "plt.ylabel(\"cases vs. test ratio in %\")\n",
    "plt.show()\n"
   ]
  },
  {
   "cell_type": "markdown",
   "metadata": {},
   "source": [
    "Create a plot of the cases in a country"
   ]
  },
  {
   "cell_type": "code",
   "execution_count": null,
   "metadata": {},
   "outputs": [],
   "source": [
    "country = \"Mexico\"\n",
    "covid_data[covid_data[\"location\"] == country].plot(\n",
    "    x=\"date\",\n",
    "    y=\"new_cases\",\n",
    "    kind=\"line\",\n",
    "    figsize=(10,5),)\n",
    "plt.xticks(rotation=90)\n",
    "plt.title(country + \" cases over time\")\n",
    "plt.legend([\"New Cases\"])\n",
    "plt.xlabel(\"Date\")\n",
    "plt.ylabel(\"Number of New Cases\")\n",
    "plt.show()"
   ]
  },
  {
   "cell_type": "markdown",
   "metadata": {},
   "source": [
    "And we can do very impressive stuff"
   ]
  },
  {
   "cell_type": "code",
   "execution_count": null,
   "metadata": {},
   "outputs": [],
   "source": [
    "import seaborn as sns\n",
    "import altair as alt\n",
    "import geopandas as gpd\n",
    "from pyproj import CRS"
   ]
  },
  {
   "cell_type": "code",
   "execution_count": null,
   "metadata": {},
   "outputs": [],
   "source": [
    "latest_df = covid_data_full[covid_data_full.date == \"2022-06-01\"].copy()\n",
    "latest_df.rename(columns={\"location\":\"CNTRY_NAME\"}, inplace=True)"
   ]
  },
  {
   "cell_type": "code",
   "execution_count": null,
   "metadata": {},
   "outputs": [],
   "source": [
    "latest_df.head(5)"
   ]
  },
  {
   "cell_type": "code",
   "execution_count": null,
   "metadata": {},
   "outputs": [],
   "source": [
    "map = gpd.read_file('https://opendata.arcgis.com/datasets/a21fdb46d23e4ef896f31475217cbb08_1.geojson')"
   ]
  },
  {
   "cell_type": "code",
   "execution_count": null,
   "metadata": {},
   "outputs": [],
   "source": [
    "map.head()"
   ]
  },
  {
   "cell_type": "code",
   "execution_count": null,
   "metadata": {},
   "outputs": [],
   "source": [
    "covid_map = pd.merge(map, latest_df, on=\"CNTRY_NAME\")\n",
    "crs_epsg = CRS(\"epsg:4326\")\n",
    "corona_gpd = gpd.GeoDataFrame(\n",
    "    covid_map,\n",
    "    crs=crs_epsg,\n",
    "    geometry=\"geometry\",\n",
    ")\n",
    "corona_gpd.head(5)"
   ]
  },
  {
   "cell_type": "code",
   "execution_count": null,
   "metadata": {},
   "outputs": [],
   "source": [
    "ax = corona_gpd.plot(\n",
    "    figsize=(30, 22),\n",
    "    column=\"total_deaths\",\n",
    "    cmap=\"inferno\",\n",
    "    scheme=\"HeadTailBreaks\",\n",
    "    k=9,\n",
    "    alpha=1,\n",
    "    legend=True,\n",
    "    markersize=0.5,\n",
    ")\n",
    "plt.title(\"Coronavirus Total Death by Country\")\n",
    "plt.show()"
   ]
  }
 ],
 "metadata": {
  "kernelspec": {
   "display_name": "Python 3.9.13 ('venv': venv)",
   "language": "python",
   "name": "python3"
  },
  "language_info": {
   "codemirror_mode": {
    "name": "ipython",
    "version": 3
   },
   "file_extension": ".py",
   "mimetype": "text/x-python",
   "name": "python",
   "nbconvert_exporter": "python",
   "pygments_lexer": "ipython3",
   "version": "3.9.13"
  },
  "orig_nbformat": 4,
  "vscode": {
   "interpreter": {
    "hash": "7167ce0988646ba049cec461a660e9f1a0f037f82f9cde54be9c8d35e9443063"
   }
  }
 },
 "nbformat": 4,
 "nbformat_minor": 2
}
